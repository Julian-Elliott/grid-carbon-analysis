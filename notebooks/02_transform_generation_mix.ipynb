{
 "cells": [
  {
   "cell_type": "markdown",
   "id": "458492b0",
   "metadata": {},
   "source": [
    "# NESO Generation Mix Data Transformation\n",
    "\n",
    "### Objectives\n",
    "\n",
    "### Primary Goals\n",
    "- **Transform raw NESO generation mix data** into clean, analysis-ready format\n",
    "- **Standardise datetime handling** across all energy datasets\n",
    "- **Create consistent fuel type categories** for cross-analysis compatibility\n",
    "- **Generate summary statistics** and data quality reports"
   ]
  },
  {
   "cell_type": "markdown",
   "id": "1d420051",
   "metadata": {},
   "source": [
    "### Stage 1: Environment Setup"
   ]
  },
  {
   "cell_type": "code",
   "execution_count": 1,
   "id": "83f20ebe",
   "metadata": {},
   "outputs": [],
   "source": [
    "import pandas as pd\n",
    "import seaborn as sns\n",
    "import matplotlib.pyplot as plt\n",
    "\n",
    "df = pd.read_csv(r'../data/raw/generation_mix.csv')"
   ]
  }
 ],
 "metadata": {
  "kernelspec": {
   "display_name": ".venv (3.12.8)",
   "language": "python",
   "name": "python3"
  },
  "language_info": {
   "codemirror_mode": {
    "name": "ipython",
    "version": 3
   },
   "file_extension": ".py",
   "mimetype": "text/x-python",
   "name": "python",
   "nbconvert_exporter": "python",
   "pygments_lexer": "ipython3",
   "version": "3.12.8"
  }
 },
 "nbformat": 4,
 "nbformat_minor": 5
}
