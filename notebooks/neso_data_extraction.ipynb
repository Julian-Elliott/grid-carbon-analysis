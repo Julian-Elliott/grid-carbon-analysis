{
 "cells": [
  {
   "cell_type": "markdown",
   "id": "f27c75e1",
   "metadata": {},
   "source": [
    "# NESO Data Extraction\n",
    "*Making Environmental Data Accessible for Everyone*\n",
    "\n",
    "### What is NESO?\n",
    "**NESO** (National Electricity System Operator) is like the **traffic controller** for UK electricity. They also track exactly how \"clean\" or \"dirty\" our electricity is, every 30 minutes, across every region of Great Britan.\n",
    "\n",
    "### Dataset Licence\n",
    "- **Free to use for academic research** under [NESO Open Data Licence v1.0](https://www.neso.energy/data-portal/neso-open-licence)\n",
    "- **Attribution required**: \"Supported by National Energy SO Open Data\"\n",
    "This licence permits free use of the data for both commercial and non-commercial purposes including copying, publishing, adapting, and combining with other datasets. Perfect for creating accessible environmental resources, educational materials, and community guidance tools."
   ]
  },
  {
   "cell_type": "markdown",
   "id": "be5e4dad",
   "metadata": {},
   "source": [
    "### Stage 1: Environment Setup"
   ]
  },
  {
   "cell_type": "code",
   "execution_count": 10,
   "id": "8f4fe8fd",
   "metadata": {},
   "outputs": [],
   "source": [
    "# Import libraries for CSV download from URL and file management\n",
    "import pandas as pd\n",
    "import requests\n",
    "from datetime import datetime\n",
    "from pathlib import Path\n",
    "import warnings\n",
    "warnings.filterwarnings('ignore')"
   ]
  }
 ],
 "metadata": {
  "language_info": {
   "name": "python"
  }
 },
 "nbformat": 4,
 "nbformat_minor": 5
}
