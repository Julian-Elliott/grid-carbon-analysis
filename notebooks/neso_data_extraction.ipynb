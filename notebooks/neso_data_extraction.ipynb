{
 "cells": [
  {
   "cell_type": "markdown",
   "id": "f27c75e1",
   "metadata": {},
   "source": [
    "# NESO Data Extraction\n",
    "*Making Environmental Data Accessible for Everyone*\n",
    "\n",
    "### What is NESO?\n",
    "**NESO** (National Electricity System Operator) is like the **traffic controller** for UK electricity. They also track exactly how \"clean\" or \"dirty\" our electricity is, every 30 minutes, across every region of Great Britan.\n",
    "\n",
    "### Dataset Licence\n",
    "- **Free to use for academic research** under [NESO Open Data Licence v1.0](https://www.neso.energy/data-portal/neso-open-licence)\n",
    "- **Attribution required**: \"Supported by National Energy SO Open Data\"\n",
    "This licence permits free use of the data for both commercial and non-commercial purposes including copying, publishing, adapting, and combining with other datasets. Perfect for creating accessible environmental resources, educational materials, and community guidance tools."
   ]
  },
  {
   "cell_type": "markdown",
   "id": "be5e4dad",
   "metadata": {},
   "source": [
    "### Stage 1: Environment Setup"
   ]
  },
  {
   "cell_type": "code",
   "execution_count": 10,
   "id": "8f4fe8fd",
   "metadata": {},
   "outputs": [],
   "source": [
    "# Import libraries for CSV download from URL and file management\n",
    "import pandas as pd\n",
    "import requests\n",
    "from datetime import datetime\n",
    "from pathlib import Path\n",
    "import warnings\n",
    "warnings.filterwarnings('ignore')"
   ]
  },
  {
   "cell_type": "code",
   "execution_count": null,
   "id": "30f2e2b2",
   "metadata": {},
   "outputs": [
    {
     "name": "stdout",
     "output_type": "stream",
     "text": [
      "Datasets: regional_carbon, generation_mix\n"
     ]
    }
   ],
   "source": [
    "# Dictionary of traget NESO datasets\n",
    "NESO_DATASETS = {\n",
    "    \"regional_carbon\": {\n",
    "        \"name\": \"Regional Carbon Intensity\",\n",
    "        \"url\": \"https://api.neso.energy/dataset/bf3d723b-b4ae-4ec7-9fc9-e584c651a9da/resource/c16b0e19-c02a-44a8-ba05-4db2c0545a2a/download/regional_carbon_intensity.csv\",\n",
    "        \"description\": \"30-minute carbon intensity by UK region (gCO2/kWh)\",\n",
    "        \"update_frequency\": \"Daily\",\n",
    "        \"regions\": 14,\n",
    "        \"time_resolution\": \"30 minutes\"\n",
    "    },\n",
    "     \"generation_mix\": {\n",
    "        \"name\": \"Historic GB Generation Mix\",\n",
    "        \"url\": \"https://api.neso.energy/dataset/88313ae5-94e4-4ddc-a790-593554d8c6b9/resource/f93d1835-75bc-43e5-84ad-12472b180a98/download/df_fuel_ckan.csv\",\n",
    "        \"description\": \"Historic electricity generation by fuel type across Great Britain\",\n",
    "        \"update_frequency\": \"Daily\",\n",
    "        \"type\": \"Generation by fuel\",\n",
    "        \"time_resolution\": \"30 minutes\"\n",
    "    }\n",
    "}\n",
    "\n",
    "print(f\"Datasets: {', '.join(NESO_DATASETS.keys())}\")"
   ]
  },
  {
   "cell_type": "code",
   "execution_count": 13,
   "id": "0d8461f8",
   "metadata": {},
   "outputs": [
    {
     "name": "stdout",
     "output_type": "stream",
     "text": [
      "Raw data directory: ../data/raw\n"
     ]
    }
   ],
   "source": [
    "# Assign raw data directory \n",
    "data_dir = Path(\"../data/raw\")\n",
    "print(f\"Raw data directory: {data_dir}\")"
   ]
  }
 ],
 "metadata": {
  "language_info": {
   "name": "python"
  }
 },
 "nbformat": 4,
 "nbformat_minor": 5
}
