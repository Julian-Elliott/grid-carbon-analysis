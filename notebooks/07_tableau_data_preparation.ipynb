{
 "cells": [
  {
   "cell_type": "markdown",
   "id": "15c80ee6",
   "metadata": {},
   "source": [
    "# Tableau Data Preparation\n",
    "\n",
    "This notebook transforms the carbon intensity analysis data into formats optimised for Tableau visualisation. The main challenge is converting the wide-format regional data (where each UK region is a separate column) into long format that Tableau can handle effectively for geographic analysis and regional comparisons.\n",
    "\n",
    "## Key Transformations:\n",
    "1. **Regional Data Reshaping**: Convert wide format to long format for proper regional analysis\n",
    "2. **Geographic Categorisation**: Add country and region type classifications\n",
    "3. **Temporal Features**: Extract hour, day, season for time-based analysis\n",
    "4. **Export Optimised Datasets**: Create both full and sample datasets for Tableau performance"
   ]
  },
  {
   "cell_type": "markdown",
   "id": "8dc17308",
   "metadata": {},
   "source": [
    "#### Stage 1: Environment Setup\n",
    "Import the necessary libraries for data transformation and export."
   ]
  },
  {
   "cell_type": "code",
   "execution_count": 12,
   "id": "6dac3b56",
   "metadata": {},
   "outputs": [
    {
     "name": "stdout",
     "output_type": "stream",
     "text": [
      "Libraries imported successfully\n",
      "Pandas version: 2.3.1\n",
      "Numpy version: 1.26.4\n"
     ]
    }
   ],
   "source": [
    "import pandas as pd\n",
    "import numpy as np\n",
    "from datetime import datetime\n",
    "import os\n",
    "from pathlib import Path\n",
    "import warnings\n",
    "warnings.filterwarnings('ignore')\n",
    "\n",
    "print(\"Libraries imported successfully\")\n",
    "print(f\"Pandas version: {pd.__version__}\")\n",
    "print(f\"Numpy version: {np.__version__}\")"
   ]
  },
  {
   "cell_type": "markdown",
   "id": "5c06dcb5",
   "metadata": {},
   "source": [
    "#### Stage 2: Load the Combined Dataset\n",
    "Load the processed combined carbon intensity data from our previous analysis."
   ]
  },
  {
   "cell_type": "code",
   "execution_count": 13,
   "id": "3aa20cf0",
   "metadata": {},
   "outputs": [
    {
     "name": "stdout",
     "output_type": "stream",
     "text": [
      "Loading combined carbon intensity dataset...\n",
      "Dataset loaded: 121,034 rows × 48 columns\n",
      "Date range: 2018-09-17 23:00:00+00:00 to 2025-08-13 11:30:00+00:00\n",
      "Memory usage: 44.3 MB\n"
     ]
    }
   ],
   "source": [
    "# Define file paths\n",
    "project_root = Path().absolute().parent\n",
    "data_path = project_root / 'data' / 'processed'\n",
    "output_path = project_root / 'data' / 'processed'\n",
    "\n",
    "# Load the combined dataset\n",
    "print(\"Loading combined carbon intensity dataset...\")\n",
    "combined_df = pd.read_csv(data_path / 'combined_generation_carbon_intensity.csv')\n",
    "\n",
    "# Convert datetime column\n",
    "combined_df['datetime'] = pd.to_datetime(combined_df['datetime'])\n",
    "\n",
    "print(f\"Dataset loaded: {combined_df.shape[0]:,} rows × {combined_df.shape[1]} columns\")\n",
    "print(f\"Date range: {combined_df['datetime'].min()} to {combined_df['datetime'].max()}\")\n",
    "print(f\"Memory usage: {combined_df.memory_usage(deep=True).sum() / 1024**2:.1f} MB\")"
   ]
  },
  {
   "cell_type": "markdown",
   "id": "ea92cf1c",
   "metadata": {},
   "source": [
    "#### Stage 3: Regional Data Structure Analysis\n",
    "Examine the current regional data structure and identify the columns that need reshaping."
   ]
  },
  {
   "cell_type": "code",
   "execution_count": 14,
   "id": "98f58e2a",
   "metadata": {},
   "outputs": [
    {
     "name": "stdout",
     "output_type": "stream",
     "text": [
      "Regional columns in dataset: 14\n",
      "Available regions: ['North Scotland', 'South Scotland', 'North West England', 'North East England', 'Yorkshire', 'North Wales and Merseyside', 'South Wales', 'West Midlands', 'East Midlands', 'East England', 'South West England', 'South England', 'London', 'South East England']\n",
      "\n",
      "Current wide format structure (first few regional columns):\n",
      "                   datetime  CARBON_INTENSITY  North Scotland  South Scotland  \\\n",
      "0 2018-09-17 23:00:00+00:00              83.0            30.0            11.0   \n",
      "1 2018-09-17 23:30:00+00:00              83.0            44.0             7.0   \n",
      "2 2018-09-18 00:00:00+00:00              78.0            44.0             8.0   \n",
      "3 2018-09-18 00:30:00+00:00              77.0            44.0            11.0   \n",
      "4 2018-09-18 01:00:00+00:00              76.0            45.0            13.0   \n",
      "\n",
      "   North West England  \n",
      "0                38.0  \n",
      "1                41.0  \n",
      "2                39.0  \n",
      "3                37.0  \n",
      "4                34.0  \n"
     ]
    }
   ],
   "source": [
    "# Identify regional columns from the data dictionary\n",
    "regional_columns = [\n",
    "    'North Scotland', 'South Scotland', 'North West England', \n",
    "    'North East England', 'Yorkshire', 'North Wales and Merseyside',\n",
    "    'South Wales', 'West Midlands', 'East Midlands', 'East England',\n",
    "    'South West England', 'South England', 'London', 'South East England'\n",
    "]\n",
    "\n",
    "# Verify all regional columns exist in the dataset\n",
    "missing_regions = [col for col in regional_columns if col not in combined_df.columns]\n",
    "available_regions = [col for col in regional_columns if col in combined_df.columns]\n",
    "\n",
    "print(f\"Regional columns in dataset: {len(available_regions)}\")\n",
    "print(f\"Available regions: {available_regions}\")\n",
    "\n",
    "if missing_regions:\n",
    "    print(f\"Missing regional columns: {missing_regions}\")\n",
    "\n",
    "# Show sample of current wide format\n",
    "print(\"\\nCurrent wide format structure (first few regional columns):\")\n",
    "sample_cols = ['datetime', 'CARBON_INTENSITY'] + available_regions[:3]\n",
    "print(combined_df[sample_cols].head())"
   ]
  },
  {
   "cell_type": "markdown",
   "id": "0aec7570",
   "metadata": {},
   "source": [
    "#### Stage 4: Define Helper Functions\n",
    "Create functions to categorise regions and prepare data for transformation."
   ]
  },
  {
   "cell_type": "code",
   "execution_count": 15,
   "id": "07bfb526",
   "metadata": {},
   "outputs": [],
   "source": [
    "def classify_country(region_name):\n",
    "    \"\"\"Classify regions by country (Scotland, Wales, England)\"\"\"\n",
    "    if 'Scotland' in region_name:\n",
    "        return 'Scotland'\n",
    "    elif 'Wales' in region_name:\n",
    "        return 'Wales'\n",
    "    elif 'England' in region_name or region_name == 'London':\n",
    "        return 'England'\n",
    "    else:\n",
    "        return 'Other'\n",
    "\n",
    "def classify_region_type(region_name):\n",
    "    \"\"\"Classify regions by geographic orientation\"\"\"\n",
    "    if 'North' in region_name:\n",
    "        return 'Northern'\n",
    "    elif 'South' in region_name:\n",
    "        return 'Southern'\n",
    "    elif 'East' in region_name:\n",
    "        return 'Eastern'\n",
    "    elif 'West' in region_name or 'Wales' in region_name:\n",
    "        return 'Western'\n",
    "    elif region_name == 'London':\n",
    "        return 'Metropolitan'\n",
    "    elif region_name == 'Yorkshire':\n",
    "        return 'Central'\n",
    "    else:\n",
    "        return 'Other'"
   ]
  },
  {
   "cell_type": "markdown",
   "id": "55b858a3",
   "metadata": {},
   "source": [
    "#### Stage 5: Transform Regional Data to Long Format\n",
    "Convert the wide format regional data into long format suitable for Tableau analysis."
   ]
  },
  {
   "cell_type": "code",
   "execution_count": 16,
   "id": "4e95a7fc",
   "metadata": {},
   "outputs": [
    {
     "name": "stdout",
     "output_type": "stream",
     "text": [
      "Starting regional data transformation...\n",
      "Converting 14 regional columns to long format...\n",
      "Preserving 34 non-regional columns as identifiers\n",
      "\n",
      "Transformation complete!\n",
      "Original dataset: 121,034 rows × 48 columns\n",
      "Long format dataset: 1,694,476 rows × 40 columns\n",
      "Multiplication factor: 14x (one row per region per timestamp)\n"
     ]
    }
   ],
   "source": [
    "def create_tableau_regional_dataset(df, regional_cols):\n",
    "    \"\"\"Transform wide regional format to long format for Tableau\"\"\"\n",
    "    \n",
    "    # Identify non-regional columns (these will be ID variables in melt)\n",
    "    non_regional_cols = [col for col in df.columns if col not in regional_cols]\n",
    "    \n",
    "    print(f\"Converting {len(regional_cols)} regional columns to long format...\")\n",
    "    print(f\"Preserving {len(non_regional_cols)} non-regional columns as identifiers\")\n",
    "    \n",
    "    # Melt the dataframe to convert wide to long format\n",
    "    df_long = df.melt(\n",
    "        id_vars=non_regional_cols,\n",
    "        value_vars=regional_cols,\n",
    "        var_name='Region',\n",
    "        value_name='Regional_Carbon_Intensity'\n",
    "    )\n",
    "    \n",
    "    # Add geographic classifications\n",
    "    df_long['Country'] = df_long['Region'].apply(classify_country)\n",
    "    df_long['Region_Type'] = df_long['Region'].apply(classify_region_type)\n",
    "    \n",
    "    # Calculate regional deviation from national average\n",
    "    df_long['Regional_Deviation'] = df_long['Regional_Carbon_Intensity'] - df_long['CARBON_INTENSITY']\n",
    "    df_long['Regional_Deviation_Percent'] = (df_long['Regional_Deviation'] / df_long['CARBON_INTENSITY']) * 100\n",
    "    \n",
    "    return df_long\n",
    "\n",
    "# Apply the transformation\n",
    "print(\"Starting regional data transformation...\")\n",
    "tableau_regional_data = create_tableau_regional_dataset(combined_df, available_regions)\n",
    "\n",
    "print(f\"\\nTransformation complete!\")\n",
    "print(f\"Original dataset: {combined_df.shape[0]:,} rows × {combined_df.shape[1]} columns\")\n",
    "print(f\"Long format dataset: {tableau_regional_data.shape[0]:,} rows × {tableau_regional_data.shape[1]} columns\")\n",
    "print(f\"Multiplication factor: {tableau_regional_data.shape[0] // combined_df.shape[0]}x (one row per region per timestamp)\")"
   ]
  },
  {
   "cell_type": "markdown",
   "id": "f39a695e",
   "metadata": {},
   "source": [
    "#### Stage 6: Export Datasets for Tableau\n",
    "Save the transformed datasets in formats optimised for Tableau import."
   ]
  },
  {
   "cell_type": "code",
   "execution_count": 17,
   "id": "f505a5ca",
   "metadata": {},
   "outputs": [
    {
     "name": "stdout",
     "output_type": "stream",
     "text": [
      "Exporting datasets for Tableau...\n",
      "Output directory: /Users/julianelliott/Documents/GitHub/grid-carbon-analysis/data/processed/tableau\n",
      "Full dataset exported: carbon_intensity_regional_long_format.csv (443.1 MB)\n"
     ]
    }
   ],
   "source": [
    "# Create output directory if it doesn't exist\n",
    "tableau_output_path = output_path / 'tableau'\n",
    "tableau_output_path.mkdir(exist_ok=True)\n",
    "\n",
    "print(\"Exporting datasets for Tableau...\")\n",
    "print(f\"Output directory: {tableau_output_path}\")\n",
    "\n",
    "# Export full regional dataset\n",
    "full_output_file = tableau_output_path / 'carbon_intensity_regional_long_format.csv'\n",
    "tableau_regional_data.to_csv(full_output_file, index=False)\n",
    "file_size_mb = full_output_file.stat().st_size / 1024**2\n",
    "print(f\"Full dataset exported: {full_output_file.name} ({file_size_mb:.1f} MB)\")"
   ]
  }
 ],
 "metadata": {
  "kernelspec": {
   "display_name": ".venv (3.12.8)",
   "language": "python",
   "name": "python3"
  },
  "language_info": {
   "codemirror_mode": {
    "name": "ipython",
    "version": 3
   },
   "file_extension": ".py",
   "mimetype": "text/x-python",
   "name": "python",
   "nbconvert_exporter": "python",
   "pygments_lexer": "ipython3",
   "version": "3.12.8"
  }
 },
 "nbformat": 4,
 "nbformat_minor": 5
}
